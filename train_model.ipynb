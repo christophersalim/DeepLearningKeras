{
 "cells": [
  {
   "cell_type": "markdown",
   "metadata": {},
   "source": [
    "# Training the Model with Keras\n",
    "Christopher Salim, 2020"
   ]
  },
  {
   "cell_type": "code",
   "execution_count": 1,
   "metadata": {},
   "outputs": [
    {
     "name": "stderr",
     "output_type": "stream",
     "text": [
      "Using TensorFlow backend.\n"
     ]
    }
   ],
   "source": [
    "import pandas as pd\n",
    "from keras.models import Sequential\n",
    "from keras.layers import *"
   ]
  },
  {
   "cell_type": "code",
   "execution_count": 2,
   "metadata": {},
   "outputs": [],
   "source": [
    "# load scaled training data\n",
    "training_data_df = pd.read_csv(\"sales_data_training_scaled.csv\")"
   ]
  },
  {
   "cell_type": "code",
   "execution_count": 3,
   "metadata": {},
   "outputs": [],
   "source": [
    "# features are all columns but the total earnings\n",
    "X = training_data_df.drop('total_earnings', axis=1).values\n",
    "Y = training_data_df[['total_earnings']].values"
   ]
  },
  {
   "cell_type": "code",
   "execution_count": 4,
   "metadata": {},
   "outputs": [
    {
     "name": "stdout",
     "output_type": "stream",
     "text": [
      "WARNING:tensorflow:From C:\\Users\\Christopher Salim\\Anaconda3\\lib\\site-packages\\tensorflow\\python\\framework\\op_def_library.py:263: colocate_with (from tensorflow.python.framework.ops) is deprecated and will be removed in a future version.\n",
      "Instructions for updating:\n",
      "Colocations handled automatically by placer.\n"
     ]
    }
   ],
   "source": [
    "#define model\n",
    "model = Sequential()\n",
    "model.add(Dense(50, input_dim=9, activation='relu'))\n",
    "model.add(Dense(100, activation='relu'))\n",
    "model.add(Dense(50, activation='relu'))\n",
    "model.add(Dense(1, activation='linear'))\n",
    "model.compile(loss='mse', optimizer='adam')"
   ]
  },
  {
   "cell_type": "code",
   "execution_count": 9,
   "metadata": {},
   "outputs": [
    {
     "name": "stdout",
     "output_type": "stream",
     "text": [
      "Epoch 1/50\n",
      " - 0s - loss: 2.6387e-05\n",
      "Epoch 2/50\n",
      " - 0s - loss: 3.1291e-05\n",
      "Epoch 3/50\n",
      " - 0s - loss: 2.3879e-05\n",
      "Epoch 4/50\n",
      " - 0s - loss: 2.9282e-05\n",
      "Epoch 5/50\n",
      " - 0s - loss: 2.7536e-05\n",
      "Epoch 6/50\n",
      " - 0s - loss: 2.4792e-05\n",
      "Epoch 7/50\n",
      " - 0s - loss: 2.9134e-05\n",
      "Epoch 8/50\n",
      " - 0s - loss: 3.2755e-05\n",
      "Epoch 9/50\n",
      " - 0s - loss: 4.6224e-05\n",
      "Epoch 10/50\n",
      " - 0s - loss: 3.1690e-05\n",
      "Epoch 11/50\n",
      " - 0s - loss: 2.2373e-05\n",
      "Epoch 12/50\n",
      " - 0s - loss: 3.1298e-05\n",
      "Epoch 13/50\n",
      " - 0s - loss: 2.4672e-05\n",
      "Epoch 14/50\n",
      " - 0s - loss: 2.6118e-05\n",
      "Epoch 15/50\n",
      " - 0s - loss: 1.7913e-05\n",
      "Epoch 16/50\n",
      " - 0s - loss: 2.1413e-05\n",
      "Epoch 17/50\n",
      " - 0s - loss: 3.8919e-05\n",
      "Epoch 18/50\n",
      " - 0s - loss: 2.0479e-05\n",
      "Epoch 19/50\n",
      " - 0s - loss: 2.4508e-05\n",
      "Epoch 20/50\n",
      " - 0s - loss: 3.9208e-05\n",
      "Epoch 21/50\n",
      " - 0s - loss: 3.7647e-05\n",
      "Epoch 22/50\n",
      " - 0s - loss: 7.9972e-05\n",
      "Epoch 23/50\n",
      " - 0s - loss: 9.1839e-05\n",
      "Epoch 24/50\n",
      " - 0s - loss: 5.0500e-05\n",
      "Epoch 25/50\n",
      " - 0s - loss: 3.7395e-05\n",
      "Epoch 26/50\n",
      " - 0s - loss: 5.7354e-05\n",
      "Epoch 27/50\n",
      " - 0s - loss: 3.6931e-05\n",
      "Epoch 28/50\n",
      " - 0s - loss: 4.7981e-05\n",
      "Epoch 29/50\n",
      " - 0s - loss: 4.1138e-05\n",
      "Epoch 30/50\n",
      " - 0s - loss: 3.8912e-05\n",
      "Epoch 31/50\n",
      " - 0s - loss: 2.3352e-05\n",
      "Epoch 32/50\n",
      " - 0s - loss: 4.2623e-05\n",
      "Epoch 33/50\n",
      " - 0s - loss: 2.0560e-05\n",
      "Epoch 34/50\n",
      " - 0s - loss: 2.5011e-05\n",
      "Epoch 35/50\n",
      " - 0s - loss: 2.3484e-05\n",
      "Epoch 36/50\n",
      " - 0s - loss: 2.6875e-05\n",
      "Epoch 37/50\n",
      " - 0s - loss: 2.8453e-05\n",
      "Epoch 38/50\n",
      " - 0s - loss: 2.9158e-05\n",
      "Epoch 39/50\n",
      " - 0s - loss: 3.7995e-05\n",
      "Epoch 40/50\n",
      " - 0s - loss: 2.1289e-05\n",
      "Epoch 41/50\n",
      " - 0s - loss: 2.0630e-05\n",
      "Epoch 42/50\n",
      " - 0s - loss: 3.9900e-05\n",
      "Epoch 43/50\n",
      " - 0s - loss: 3.1870e-05\n",
      "Epoch 44/50\n",
      " - 0s - loss: 3.1031e-05\n",
      "Epoch 45/50\n",
      " - 0s - loss: 3.7759e-05\n",
      "Epoch 46/50\n",
      " - 0s - loss: 4.6291e-05\n",
      "Epoch 47/50\n",
      " - 0s - loss: 6.8875e-05\n",
      "Epoch 48/50\n",
      " - 0s - loss: 2.5321e-05\n",
      "Epoch 49/50\n",
      " - 0s - loss: 1.9628e-05\n",
      "Epoch 50/50\n",
      " - 0s - loss: 2.7452e-05\n"
     ]
    },
    {
     "data": {
      "text/plain": [
       "<keras.callbacks.History at 0x1b0e0c39d68>"
      ]
     },
     "execution_count": 9,
     "metadata": {},
     "output_type": "execute_result"
    }
   ],
   "source": [
    "# Train the model\n",
    "model.fit(X, Y, epochs=50, shuffle=True, verbose=2)"
   ]
  },
  {
   "cell_type": "code",
   "execution_count": 10,
   "metadata": {},
   "outputs": [],
   "source": [
    "# Load the separate test data set\n",
    "test_data_df = pd.read_csv('sales_data_test_scaled.csv')"
   ]
  },
  {
   "cell_type": "code",
   "execution_count": 13,
   "metadata": {},
   "outputs": [],
   "source": [
    "X_test = test_data_df.drop('total_earnings', axis=1)\n",
    "Y_test = test_data_df[['total_earnings']].values"
   ]
  },
  {
   "cell_type": "code",
   "execution_count": 16,
   "metadata": {},
   "outputs": [
    {
     "name": "stdout",
     "output_type": "stream",
     "text": [
      "The MSE for the test data set is 0.0007987004076130688\n"
     ]
    }
   ],
   "source": [
    "test_error_rate = model.evaluate(X_test, Y_test, verbose=0)\n",
    "print(\"The MSE for the test data set is {}\".format(test_error_rate))"
   ]
  }
 ],
 "metadata": {
  "kernelspec": {
   "display_name": "Python 3",
   "language": "python",
   "name": "python3"
  },
  "language_info": {
   "codemirror_mode": {
    "name": "ipython",
    "version": 3
   },
   "file_extension": ".py",
   "mimetype": "text/x-python",
   "name": "python",
   "nbconvert_exporter": "python",
   "pygments_lexer": "ipython3",
   "version": "3.7.3"
  }
 },
 "nbformat": 4,
 "nbformat_minor": 2
}
