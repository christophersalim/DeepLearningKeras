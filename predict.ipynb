{
 "cells": [
  {
   "cell_type": "markdown",
   "metadata": {},
   "source": [
    "# Predicting the Result\n",
    "Christopher Salim, 2020"
   ]
  },
  {
   "cell_type": "code",
   "execution_count": 1,
   "metadata": {},
   "outputs": [
    {
     "name": "stderr",
     "output_type": "stream",
     "text": [
      "Using TensorFlow backend.\n"
     ]
    }
   ],
   "source": [
    "import pandas as pd\n",
    "from keras.models import Sequential\n",
    "from keras.layers import *"
   ]
  },
  {
   "cell_type": "code",
   "execution_count": 2,
   "metadata": {},
   "outputs": [],
   "source": [
    "training_data_df = pd.read_csv(\"sales_data_training_scaled.csv\")"
   ]
  },
  {
   "cell_type": "code",
   "execution_count": 3,
   "metadata": {},
   "outputs": [],
   "source": [
    "X = training_data_df.drop('total_earnings', axis=1).values\n",
    "Y = training_data_df[['total_earnings']].values"
   ]
  },
  {
   "cell_type": "code",
   "execution_count": 4,
   "metadata": {},
   "outputs": [
    {
     "name": "stdout",
     "output_type": "stream",
     "text": [
      "WARNING:tensorflow:From C:\\Users\\Christopher Salim\\Anaconda3\\lib\\site-packages\\tensorflow\\python\\framework\\op_def_library.py:263: colocate_with (from tensorflow.python.framework.ops) is deprecated and will be removed in a future version.\n",
      "Instructions for updating:\n",
      "Colocations handled automatically by placer.\n"
     ]
    }
   ],
   "source": [
    "# Define the model\n",
    "model = Sequential()\n",
    "model.add(Dense(50, input_dim=9, activation='relu'))\n",
    "model.add(Dense(100, activation='relu'))\n",
    "model.add(Dense(50, activation='relu'))\n",
    "model.add(Dense(1, activation='linear'))\n",
    "model.compile(loss='mean_squared_error', optimizer='adam')"
   ]
  },
  {
   "cell_type": "code",
   "execution_count": 5,
   "metadata": {},
   "outputs": [
    {
     "name": "stdout",
     "output_type": "stream",
     "text": [
      "WARNING:tensorflow:From C:\\Users\\Christopher Salim\\Anaconda3\\lib\\site-packages\\tensorflow\\python\\ops\\math_ops.py:3066: to_int32 (from tensorflow.python.ops.math_ops) is deprecated and will be removed in a future version.\n",
      "Instructions for updating:\n",
      "Use tf.cast instead.\n",
      "Epoch 1/50\n",
      " - 1s - loss: 0.0236\n",
      "Epoch 2/50\n",
      " - 0s - loss: 0.0018\n",
      "Epoch 3/50\n",
      " - 0s - loss: 7.0271e-04\n",
      "Epoch 4/50\n",
      " - 0s - loss: 3.6276e-04\n",
      "Epoch 5/50\n",
      " - 0s - loss: 2.4842e-04\n",
      "Epoch 6/50\n",
      " - 0s - loss: 1.7400e-04\n",
      "Epoch 7/50\n",
      " - 0s - loss: 1.1621e-04\n",
      "Epoch 8/50\n",
      " - 0s - loss: 1.0071e-04\n",
      "Epoch 9/50\n",
      " - 0s - loss: 7.6159e-05\n",
      "Epoch 10/50\n",
      " - 0s - loss: 7.8068e-05\n",
      "Epoch 11/50\n",
      " - 0s - loss: 5.9376e-05\n",
      "Epoch 12/50\n",
      " - 0s - loss: 5.4235e-05\n",
      "Epoch 13/50\n",
      " - 0s - loss: 6.2272e-05\n",
      "Epoch 14/50\n",
      " - 0s - loss: 4.1079e-05\n",
      "Epoch 15/50\n",
      " - 0s - loss: 4.3323e-05\n",
      "Epoch 16/50\n",
      " - 0s - loss: 3.3710e-05\n",
      "Epoch 17/50\n",
      " - 0s - loss: 3.3808e-05\n",
      "Epoch 18/50\n",
      " - 0s - loss: 4.0186e-05\n",
      "Epoch 19/50\n",
      " - 0s - loss: 3.1988e-05\n",
      "Epoch 20/50\n",
      " - 0s - loss: 2.6525e-05\n",
      "Epoch 21/50\n",
      " - 0s - loss: 3.1245e-05\n",
      "Epoch 22/50\n",
      " - 0s - loss: 2.3481e-05\n",
      "Epoch 23/50\n",
      " - 0s - loss: 2.6920e-05\n",
      "Epoch 24/50\n",
      " - 0s - loss: 2.3790e-05\n",
      "Epoch 25/50\n",
      " - 0s - loss: 2.2022e-05\n",
      "Epoch 26/50\n",
      " - 0s - loss: 2.3968e-05\n",
      "Epoch 27/50\n",
      " - 0s - loss: 2.0816e-05\n",
      "Epoch 28/50\n",
      " - 0s - loss: 1.8952e-05\n",
      "Epoch 29/50\n",
      " - 0s - loss: 2.3431e-05\n",
      "Epoch 30/50\n",
      " - 0s - loss: 2.1211e-05\n",
      "Epoch 31/50\n",
      " - 0s - loss: 2.0053e-05\n",
      "Epoch 32/50\n",
      " - 0s - loss: 2.5631e-05\n",
      "Epoch 33/50\n",
      " - 0s - loss: 2.3391e-05\n",
      "Epoch 34/50\n",
      " - 0s - loss: 2.0283e-05\n",
      "Epoch 35/50\n",
      " - 0s - loss: 2.1726e-05\n",
      "Epoch 36/50\n",
      " - 0s - loss: 2.4095e-05\n",
      "Epoch 37/50\n",
      " - 0s - loss: 2.1656e-05\n",
      "Epoch 38/50\n",
      " - 0s - loss: 2.4323e-05\n",
      "Epoch 39/50\n",
      " - 0s - loss: 1.8760e-05\n",
      "Epoch 40/50\n",
      " - 0s - loss: 1.7648e-05\n",
      "Epoch 41/50\n",
      " - 0s - loss: 2.0259e-05\n",
      "Epoch 42/50\n",
      " - 0s - loss: 2.8560e-05\n",
      "Epoch 43/50\n",
      " - 0s - loss: 2.0433e-05\n",
      "Epoch 44/50\n",
      " - 0s - loss: 1.9638e-05\n",
      "Epoch 45/50\n",
      " - 0s - loss: 2.9715e-05\n",
      "Epoch 46/50\n",
      " - 0s - loss: 2.5531e-05\n",
      "Epoch 47/50\n",
      " - 0s - loss: 1.6702e-05\n",
      "Epoch 48/50\n",
      " - 0s - loss: 1.4133e-05\n",
      "Epoch 49/50\n",
      " - 0s - loss: 1.6223e-05\n",
      "Epoch 50/50\n",
      " - 0s - loss: 2.2182e-05\n"
     ]
    },
    {
     "data": {
      "text/plain": [
       "<keras.callbacks.History at 0x286efb06e80>"
      ]
     },
     "execution_count": 5,
     "metadata": {},
     "output_type": "execute_result"
    }
   ],
   "source": [
    "# Train the model\n",
    "model.fit(\n",
    "    X,\n",
    "    Y,\n",
    "    epochs=50,\n",
    "    shuffle=True,\n",
    "    verbose=2\n",
    ")"
   ]
  },
  {
   "cell_type": "code",
   "execution_count": 6,
   "metadata": {},
   "outputs": [],
   "source": [
    "# Load the separate test data set\n",
    "test_data_df = pd.read_csv(\"sales_data_test_scaled.csv\")"
   ]
  },
  {
   "cell_type": "code",
   "execution_count": 7,
   "metadata": {},
   "outputs": [],
   "source": [
    "X_test = test_data_df.drop('total_earnings', axis=1).values\n",
    "Y_test = test_data_df[['total_earnings']].values"
   ]
  },
  {
   "cell_type": "code",
   "execution_count": 8,
   "metadata": {},
   "outputs": [
    {
     "name": "stdout",
     "output_type": "stream",
     "text": [
      "The mean squared error (MSE) for the test data set is: 5.35043868876528e-05\n"
     ]
    }
   ],
   "source": [
    "test_error_rate = model.evaluate(X_test, Y_test, verbose=0)\n",
    "print(\"The mean squared error (MSE) for the test data set is: {}\".format(test_error_rate))"
   ]
  },
  {
   "cell_type": "code",
   "execution_count": 9,
   "metadata": {},
   "outputs": [],
   "source": [
    "# Load the data we make to use to make a prediction\n",
    "X = pd.read_csv(\"proposed_new_product.csv\").values"
   ]
  },
  {
   "cell_type": "code",
   "execution_count": 10,
   "metadata": {},
   "outputs": [],
   "source": [
    "# Make a prediction with the neural network\n",
    "prediction = model.predict(X)"
   ]
  },
  {
   "cell_type": "code",
   "execution_count": 14,
   "metadata": {},
   "outputs": [
    {
     "name": "stdout",
     "output_type": "stream",
     "text": [
      "0.8670174\n"
     ]
    }
   ],
   "source": [
    "# print the prediction\n",
    "print(prediction[0][0])"
   ]
  },
  {
   "cell_type": "code",
   "execution_count": 15,
   "metadata": {},
   "outputs": [],
   "source": [
    "# rescale the data\n",
    "prediction += 0.1159 \n",
    "prediction /= 0.0000036968"
   ]
  },
  {
   "cell_type": "code",
   "execution_count": 16,
   "metadata": {},
   "outputs": [
    {
     "name": "stdout",
     "output_type": "stream",
     "text": [
      "[[265883.3]]\n"
     ]
    }
   ],
   "source": [
    "print(prediction)"
   ]
  }
 ],
 "metadata": {
  "kernelspec": {
   "display_name": "Python 3",
   "language": "python",
   "name": "python3"
  },
  "language_info": {
   "codemirror_mode": {
    "name": "ipython",
    "version": 3
   },
   "file_extension": ".py",
   "mimetype": "text/x-python",
   "name": "python",
   "nbconvert_exporter": "python",
   "pygments_lexer": "ipython3",
   "version": "3.7.3"
  }
 },
 "nbformat": 4,
 "nbformat_minor": 2
}
